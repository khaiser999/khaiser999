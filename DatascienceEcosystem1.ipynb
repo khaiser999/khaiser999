{
 "cells": [
  {
   "cell_type": "markdown",
   "id": "a2480933",
   "metadata": {},
   "source": [
    "# Data science Tools and Ecosystem"
   ]
  },
  {
   "cell_type": "markdown",
   "id": "b63b92b0",
   "metadata": {},
   "source": [
    "In this notebook,Data Science Tools and Ecosystem are summarized"
   ]
  },
  {
   "cell_type": "markdown",
   "id": "bd3329f9",
   "metadata": {},
   "source": [
    "Some of the popular languages that Data Scientists use are:\n",
    "    1.Python\n",
    "    2.R\n",
    "    3.SQL\n",
    "    4.C++\n",
    "    5.java etc....\n",
    "    "
   ]
  },
  {
   "cell_type": "markdown",
   "id": "0ffb1c28",
   "metadata": {},
   "source": [
    "Some of the commonly used libraries used by Data Scientists include:\n",
    "    1.Tensorflow\n",
    "    2.Numpy\n",
    "    3.Scipy\n",
    "    4.Pandas\n",
    "    5.Matplotlib\n",
    "    6.Keras\n",
    "    7.Scikit-Learn\n",
    "    8.pytorch.etc..;"
   ]
  },
  {
   "cell_type": "markdown",
   "id": "b8cf6da7",
   "metadata": {},
   "source": [
    "|Data Science Tools|\n",
    "|---|\n",
    "|SAS|\n",
    "|Apache Hadoop|\n",
    "|Tensorflow|\n"
   ]
  },
  {
   "cell_type": "markdown",
   "id": "0b27233f",
   "metadata": {},
   "source": [
    "### Below are a few examples of evaluating Arithmetic expressions in python"
   ]
  },
  {
   "cell_type": "code",
   "execution_count": 1,
   "id": "6fc9ca48",
   "metadata": {},
   "outputs": [
    {
     "data": {
      "text/plain": [
       "17"
      ]
     },
     "execution_count": 1,
     "metadata": {},
     "output_type": "execute_result"
    }
   ],
   "source": [
    "#this is a common arithmetic example to multiply and then add integers\n",
    "(3*4)+5"
   ]
  },
  {
   "cell_type": "code",
   "execution_count": 2,
   "id": "4a2df4b8",
   "metadata": {},
   "outputs": [
    {
     "data": {
      "text/plain": [
       "3.3333333333333335"
      ]
     },
     "execution_count": 2,
     "metadata": {},
     "output_type": "execute_result"
    }
   ],
   "source": [
    "#this will convert 200 minutes to hours by dividing by 60\n",
    "200/60"
   ]
  },
  {
   "cell_type": "markdown",
   "id": "7c446df7",
   "metadata": {},
   "source": [
    "__objective__\n",
    ". List popular languages for Data Science\n",
    ". List popular libraries for Data science\n",
    ". List of well known data science Tools\n",
    ". How to provide comments in the cell"
   ]
  },
  {
   "cell_type": "markdown",
   "id": "a14f2d8d",
   "metadata": {},
   "source": [
    "### Author\n",
    "Gourav kumar"
   ]
  }
 ],
 "metadata": {
  "kernelspec": {
   "display_name": "Python 3 (ipykernel)",
   "language": "python",
   "name": "python3"
  },
  "language_info": {
   "codemirror_mode": {
    "name": "ipython",
    "version": 3
   },
   "file_extension": ".py",
   "mimetype": "text/x-python",
   "name": "python",
   "nbconvert_exporter": "python",
   "pygments_lexer": "ipython3",
   "version": "3.9.13"
  }
 },
 "nbformat": 4,
 "nbformat_minor": 5
}
